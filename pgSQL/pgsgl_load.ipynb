{
 "cells": [
  {
   "attachments": {},
   "cell_type": "markdown",
   "metadata": {},
   "source": [
    "### Ingest Shapefiles to PostgreSQL "
   ]
  },
  {
   "cell_type": "code",
   "execution_count": 16,
   "metadata": {},
   "outputs": [],
   "source": [
    "# import needed libraries\n",
    "from sqlalchemy import create_engine\n",
    "import geopandas as gpd\n",
    "import numpy as np"
   ]
  },
  {
   "cell_type": "code",
   "execution_count": 3,
   "metadata": {},
   "outputs": [],
   "source": [
    "# declare variables to connect to the database (local - you will need install and cofigure your own credentials)\n",
    "user = \"postgres\"\n",
    "password = \"landv\"\n",
    "host = \"localhost\"\n",
    "port = 5432\n",
    "database = \"mukey_test\""
   ]
  },
  {
   "cell_type": "code",
   "execution_count": 5,
   "metadata": {},
   "outputs": [],
   "source": [
    "# establish connection to the dbase\n",
    "conn = f\"postgresql://{user}:{password}@{host}:{port}/{database}\"\n",
    "engine = create_engine(conn)"
   ]
  },
  {
   "cell_type": "code",
   "execution_count": 6,
   "metadata": {},
   "outputs": [],
   "source": [
    "#Read shapefile using GeoPandas -example follows structure of SSURGO dbase in this repo\n",
    "gdf = gpd.read_file(\"../SSURGO/AR/AR017/spatial/soilmu_a_ar017.shp\")"
   ]
  },
  {
   "cell_type": "code",
   "execution_count": 17,
   "metadata": {},
   "outputs": [
    {
     "data": {
      "text/plain": [
       "41"
      ]
     },
     "execution_count": 17,
     "metadata": {},
     "output_type": "execute_result"
    }
   ],
   "source": [
    "# count unique mukeys\n",
    "np.size(gdf.MUKEY.unique())"
   ]
  },
  {
   "cell_type": "code",
   "execution_count": null,
   "metadata": {},
   "outputs": [],
   "source": [
    "# link calculated clay % to the test county shapefile\n"
   ]
  },
  {
   "cell_type": "code",
   "execution_count": 10,
   "metadata": {},
   "outputs": [
    {
     "name": "stdout",
     "output_type": "stream",
     "text": [
      "success\n"
     ]
    }
   ],
   "source": [
    "#Import shapefile to database\n",
    "gdf.to_postgis(name=\"mukey_ar017\", con=engine, schema=\"public\")\n",
    " \n",
    "print(\"success\")\n",
    "\n",
    "'''\n",
    "note: if you get geometry error - on your target DBase in PgAdmin do the following\n",
    "\n",
    "open pgAdmin\n",
    "select (click) your database\n",
    "click \"SQL\" icon on the bar\n",
    "run \"CREATE EXTENSION postgis;\n",
    "'''"
   ]
  },
  {
   "cell_type": "code",
   "execution_count": 7,
   "metadata": {},
   "outputs": [
    {
     "name": "stdout",
     "output_type": "stream",
     "text": [
      "<class 'geopandas.geodataframe.GeoDataFrame'>\n",
      "RangeIndex: 2546 entries, 0 to 2545\n",
      "Data columns (total 5 columns):\n",
      " #   Column      Non-Null Count  Dtype   \n",
      "---  ------      --------------  -----   \n",
      " 0   AREASYMBOL  2546 non-null   object  \n",
      " 1   SPATIALVER  2546 non-null   int64   \n",
      " 2   MUSYM       2546 non-null   object  \n",
      " 3   MUKEY       2546 non-null   object  \n",
      " 4   geometry    2546 non-null   geometry\n",
      "dtypes: geometry(1), int64(1), object(3)\n",
      "memory usage: 99.6+ KB\n"
     ]
    }
   ],
   "source": [
    "gdf.info()"
   ]
  },
  {
   "cell_type": "code",
   "execution_count": null,
   "metadata": {},
   "outputs": [],
   "source": []
  }
 ],
 "metadata": {
  "kernelspec": {
   "display_name": ".venv38eo",
   "language": "python",
   "name": "python3"
  },
  "language_info": {
   "codemirror_mode": {
    "name": "ipython",
    "version": 3
   },
   "file_extension": ".py",
   "mimetype": "text/x-python",
   "name": "python",
   "nbconvert_exporter": "python",
   "pygments_lexer": "ipython3",
   "version": "3.8.10"
  },
  "orig_nbformat": 4,
  "vscode": {
   "interpreter": {
    "hash": "d976e26bdada36c5a7ad930433d46c74f0eb96ff2c94a0db8b07934defc3f2ef"
   }
  }
 },
 "nbformat": 4,
 "nbformat_minor": 2
}
