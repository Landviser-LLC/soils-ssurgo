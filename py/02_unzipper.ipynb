{
 "cells": [
  {
   "cell_type": "markdown",
   "metadata": {},
   "source": [
    "## Unzipping zip files to another folder"
   ]
  },
  {
   "cell_type": "code",
   "execution_count": 1,
   "metadata": {},
   "outputs": [],
   "source": [
    "# import needed modules\n",
    "import pandas as pd\n",
    "import numpy as np\n",
    "import os\n",
    "import zipfile\n",
    "# usefull to see and scroll through bigger dframes\n",
    "pd.set_option('display.max_rows', 500)\n",
    "pd.set_option('display.max_columns', 500)"
   ]
  },
  {
   "cell_type": "code",
   "execution_count": 7,
   "metadata": {},
   "outputs": [
    {
     "data": {
      "text/plain": [
       "['wss_SSA_AR035_[2021-09-13].zip',\n",
       " 'wss_SSA_MO143_[2021-09-01].zip',\n",
       " 'wss_SSA_TX039_[2021-09-09].zip']"
      ]
     },
     "execution_count": 7,
     "metadata": {},
     "output_type": "execute_result"
    }
   ],
   "source": [
    "os.listdir('../data_in/zip1/')"
   ]
  },
  {
   "cell_type": "code",
   "execution_count": 10,
   "metadata": {},
   "outputs": [],
   "source": [
    "# setting up relative path to the ZIP folder instead of direct (direct full path name varies depending on local machine)\n",
    "\n",
    "\n",
    "for path, dir_list, file_list in os.walk('../data_in/zip'):\n",
    "    for file_name in file_list:\n",
    "        if file_name.endswith(\".zip\"):\n",
    "            abs_file_path = os.path.join(path, file_name)\n",
    "\n",
    "            # The following three lines of code are only useful if \n",
    "            # a. the zip file is to be unzipped in it's parent folder and \n",
    "            # b. inside the folder of the same name as the file\n",
    "\n",
    "            parent_path = os.path.split('../SSURGO/')[0]\n",
    "            output_folder_name = os.path.splitext('../SSURGO/')[0]\n",
    "            output_path = os.path.join(parent_path, output_folder_name)\n",
    "\n",
    "            zip_obj = zipfile.ZipFile(abs_file_path, 'r')\n",
    "            zip_obj.extractall(output_path)\n",
    "            zip_obj.close()\n",
    "\n",
    "#groups by folders which are ST abbreviations\n"
   ]
  }
 ],
 "metadata": {
  "kernelspec": {
   "display_name": "Python 3.9.9 ('.venv39': venv)",
   "language": "python",
   "name": "python3"
  },
  "language_info": {
   "codemirror_mode": {
    "name": "ipython",
    "version": 3
   },
   "file_extension": ".py",
   "mimetype": "text/x-python",
   "name": "python",
   "nbconvert_exporter": "python",
   "pygments_lexer": "ipython3",
   "version": "3.9.9"
  },
  "orig_nbformat": 4,
  "vscode": {
   "interpreter": {
    "hash": "c310f0b89e2e21f775d6a0da44d32d2ad8a4b5ca6fce96848d4d6666866aca07"
   }
  }
 },
 "nbformat": 4,
 "nbformat_minor": 2
}
