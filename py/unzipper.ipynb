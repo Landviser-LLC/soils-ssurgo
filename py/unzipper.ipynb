{
 "cells": [
  {
   "cell_type": "markdown",
   "metadata": {},
   "source": [
    "## Unzipping zip files to another folder"
   ]
  },
  {
   "cell_type": "code",
   "execution_count": 1,
   "metadata": {},
   "outputs": [],
   "source": [
    "# import needed modules\n",
    "import pandas as pd\n",
    "import numpy as np\n",
    "import os\n",
    "import zipfile\n",
    "# usefull to see and scroll through bigger dframes\n",
    "pd.set_option('display.max_rows', 500)\n",
    "pd.set_option('display.max_columns', 500)"
   ]
  },
  {
   "cell_type": "code",
   "execution_count": 6,
   "metadata": {},
   "outputs": [],
   "source": [
    "for path, dir_list, file_list in os.walk('C:/Users/trubin/Desktop/Landviser LLC/git repos/soils-ssurgo/data_in/zip'):\n",
    "    for file_name in file_list:\n",
    "        if file_name.endswith(\".zip\"):\n",
    "            abs_file_path = os.path.join(path, file_name)\n",
    "\n",
    "            # The following three lines of code are only useful if \n",
    "            # a. the zip file is to unzipped in it's parent folder and \n",
    "            # b. inside the folder of the same name as the file\n",
    "\n",
    "            parent_path = os.path.split('C:/Users/trubin/Desktop/Landviser LLC/git repos/soils-ssurgo/SSURGO')[0]\n",
    "            output_folder_name = os.path.splitext('C:/Users/trubin/Desktop/Landviser LLC/git repos/soils-ssurgo/SSURGO')[0]\n",
    "            output_path = os.path.join(parent_path, output_folder_name)\n",
    "\n",
    "            zip_obj = zipfile.ZipFile(abs_file_path, 'r')\n",
    "            zip_obj.extractall(output_path)\n",
    "            zip_obj.close()\n",
    "\n",
    "#group by folders\n"
   ]
  }
 ],
 "metadata": {
  "kernelspec": {
   "display_name": "Python 3.8.5 ('base')",
   "language": "python",
   "name": "python3"
  },
  "language_info": {
   "codemirror_mode": {
    "name": "ipython",
    "version": 3
   },
   "file_extension": ".py",
   "mimetype": "text/x-python",
   "name": "python",
   "nbconvert_exporter": "python",
   "pygments_lexer": "ipython3",
   "version": "3.8.5"
  },
  "orig_nbformat": 4,
  "vscode": {
   "interpreter": {
    "hash": "fdbe6a345e49dbba1d6ce3231a5791291bc277e174161bd9129a45264752b2ba"
   }
  }
 },
 "nbformat": 4,
 "nbformat_minor": 2
}
