{
 "cells": [
  {
   "cell_type": "markdown",
   "metadata": {},
   "source": [
    "## Calculating % Clay in topsoil for SSURGO map unit"
   ]
  },
  {
   "cell_type": "markdown",
   "metadata": {},
   "source": [
    "There are multiple tables from SSURGO involved. First the files per county have to be downloaded and unzipped under corresponding folders in this repo. The approach is to use a weighted average of soil horizons *chorizon* table for the average clay content (_r) per that layer, layer thickness, the % clay was recalculated to 50 cm (hardcoded) - per soil *component*.\n",
    "Then, the *chorizon\" table has to be merged with *  * table on cokey (one-to-many) since the extent of the soil component within map unit (mukey) varies. Weighted average of the clay per mapunit was calculated in the same way.\n",
    "The clay % per map unit tables were merged for all four counties - that table then merged with soil shapefile in ArcMap.\n",
    "The soil shapefile was spatially cut to the farm fields extent - another weighted average of % clay was done depending on the % of mapunits composing the ricefield"
   ]
  },
  {
   "cell_type": "code",
   "execution_count": 1,
   "metadata": {},
   "outputs": [],
   "source": [
    "# import needed modules\n",
    "import pandas as pd\n",
    "import numpy as np\n",
    "import os\n",
    "# usefull to see and scroll through bigger dframes\n",
    "pd.set_option('display.max_rows', 500)\n",
    "pd.set_option('display.max_columns', 500)"
   ]
  },
  {
   "cell_type": "code",
   "execution_count": 3,
   "metadata": {},
   "outputs": [
    {
     "name": "stdout",
     "output_type": "stream",
     "text": [
      "C:\\c_repos\\soils-ssurgo\\SSURGO\\AR\\AR043\\tabular\\chorizon.txt\n"
     ]
    }
   ],
   "source": [
    "# constructing path to file\n",
    "'''\n",
    "all reside under tabular\\ subfolder in ST\\ST001 structure\n",
    "Note: if you want to include \\ while constructing path, add them at the beginning of the text chunk\n",
    "'''\n",
    "state = '\\AR'\n",
    "county = '\\AR043'\n",
    "chorizon = '\\chorizon.txt'\n",
    "\n",
    "horz_path = 'C:\\c_repos\\soils-ssurgo\\SSURGO' +  state + county + '\\\\tabular' + chorizon\n",
    "\n",
    "print(horz_path)\n"
   ]
  },
  {
   "cell_type": "code",
   "execution_count": 112,
   "metadata": {},
   "outputs": [
    {
     "data": {
      "text/html": [
       "<div><div id=67539d87-21d8-4ed9-a025-edc2b48f48ee style=\"display:none; background-color:#9D6CFF; color:white; width:200px; height:30px; padding-left:5px; border-radius:4px; flex-direction:row; justify-content:space-around; align-items:center;\" onmouseover=\"this.style.backgroundColor='#BA9BF8'\" onmouseout=\"this.style.backgroundColor='#9D6CFF'\" onclick=\"window.commands?.execute('create-mitosheet-from-dataframe-output');\">See Full Dataframe in Mito</div> <script> if (window.commands?.hasCommand('create-mitosheet-from-dataframe-output')) document.getElementById('67539d87-21d8-4ed9-a025-edc2b48f48ee').style.display = 'flex' </script> <table border=\"1\" class=\"dataframe\">\n",
       "  <thead>\n",
       "    <tr style=\"text-align: right;\">\n",
       "      <th></th>\n",
       "      <th>hzname</th>\n",
       "      <th>hzdept_r_cm</th>\n",
       "      <th>hzdepb_r_cm</th>\n",
       "      <th>hzthk_r_cm</th>\n",
       "      <th>claytotal_r_%</th>\n",
       "      <th>om_r_%</th>\n",
       "      <th>cokey</th>\n",
       "      <th>chkey</th>\n",
       "    </tr>\n",
       "  </thead>\n",
       "  <tbody>\n",
       "    <tr>\n",
       "      <th>0</th>\n",
       "      <td>Btg1</td>\n",
       "      <td>61</td>\n",
       "      <td>102</td>\n",
       "      <td>41</td>\n",
       "      <td>28.0</td>\n",
       "      <td>0.75</td>\n",
       "      <td>21856317</td>\n",
       "      <td>64452141</td>\n",
       "    </tr>\n",
       "    <tr>\n",
       "      <th>1</th>\n",
       "      <td>A</td>\n",
       "      <td>0</td>\n",
       "      <td>8</td>\n",
       "      <td>8</td>\n",
       "      <td>15.0</td>\n",
       "      <td>1.75</td>\n",
       "      <td>21856317</td>\n",
       "      <td>64452142</td>\n",
       "    </tr>\n",
       "    <tr>\n",
       "      <th>2</th>\n",
       "      <td>Btg2</td>\n",
       "      <td>102</td>\n",
       "      <td>142</td>\n",
       "      <td>40</td>\n",
       "      <td>23.5</td>\n",
       "      <td>0.25</td>\n",
       "      <td>21856317</td>\n",
       "      <td>64452143</td>\n",
       "    </tr>\n",
       "  </tbody>\n",
       "</table></div>"
      ],
      "text/plain": [
       "  hzname  hzdept_r_cm  hzdepb_r_cm  hzthk_r_cm  claytotal_r_%  om_r_%  \\\n",
       "0   Btg1           61          102          41           28.0    0.75   \n",
       "1      A            0            8           8           15.0    1.75   \n",
       "2   Btg2          102          142          40           23.5    0.25   \n",
       "\n",
       "      cokey     chkey  \n",
       "0  21856317  64452141  \n",
       "1  21856317  64452142  \n",
       "2  21856317  64452143  "
      ]
     },
     "execution_count": 112,
     "metadata": {},
     "output_type": "execute_result"
    }
   ],
   "source": [
    "#loading CHORIZON table into df\n",
    "'''\n",
    "The Horizon table lists the horizon(s) and related data for the referenced map unit component. If the horizon thickness is greater than zero (low=5, RV=8, high=12), the horizon exists everywhere this\n",
    "component occurs. If the horizon thickness includes zero (low=0, RV=1, high=3), the horizon may exist in some places, but not in other places.\n",
    "Horizons that have two distinct parts, such as E/B or E&Bt horizons, are recorded twice. Once for the characteristics of the first part; and again on another row, using the same depths and thicknesses,\n",
    "for the characteristics of the other part.\n",
    "\n",
    "the .txt tables are of CSV type, but pipe | delimited, those tables do not have headers, the general header names have to be pulled out from  pdf, since there are 171 columns,\n",
    "we will select only need columns by index, and load pre-defined headers from the list\n",
    "\n",
    "_r indicates representative value of the property for soil horizon, original table also includes _l (lowest) and _h (highest) values for the property\n",
    "horizon depth and thickness is in CM, clay and organic matter total are in %\n",
    "'''\n",
    "col_chorizon = ['hzname', 'hzdept_r_cm', 'hzdepb_r_cm', 'hzthk_r_cm', 'claytotal_r_%', 'om_r_%', 'cokey', 'chkey']\n",
    "\n",
    "df_chorizon = pd.read_csv(horz_path, delimiter='|', index_col=False, usecols=[0, 6, 9, 12, 60, 66, 169, 170], names=col_chorizon)\n",
    "df_chorizon.head(3)"
   ]
  },
  {
   "cell_type": "code",
   "execution_count": 113,
   "metadata": {},
   "outputs": [
    {
     "name": "stdout",
     "output_type": "stream",
     "text": [
      "<class 'pandas.core.frame.DataFrame'>\n",
      "RangeIndex: 154 entries, 0 to 153\n",
      "Data columns (total 8 columns):\n",
      " #   Column         Non-Null Count  Dtype  \n",
      "---  ------         --------------  -----  \n",
      " 0   hzname         154 non-null    object \n",
      " 1   hzdept_r_cm    154 non-null    int64  \n",
      " 2   hzdepb_r_cm    154 non-null    int64  \n",
      " 3   hzthk_r_cm     154 non-null    int64  \n",
      " 4   claytotal_r_%  154 non-null    float64\n",
      " 5   om_r_%         154 non-null    float64\n",
      " 6   cokey          154 non-null    int64  \n",
      " 7   chkey          154 non-null    int64  \n",
      "dtypes: float64(2), int64(5), object(1)\n",
      "memory usage: 9.8+ KB\n"
     ]
    }
   ],
   "source": [
    "df_chorizon.info()"
   ]
  },
  {
   "cell_type": "code",
   "execution_count": 114,
   "metadata": {},
   "outputs": [],
   "source": [
    "# this assigns 0 values of claycontent to all horizons where bottom is > 50 cm - this will also exclude clay value if top of the layer <50 cm, but bottom deeper, which is OK fo now - but see if this\n",
    "# can be improved further, or looking for clay content in top 30 cm\n",
    "\n",
    "df_chorizon['clay%_50cm'] = np.where(df_chorizon['hzdepb_r_cm']>50, 0, (df_chorizon['hzdepb_r_cm'] - df_chorizon['hzdept_r_cm'])/50 * df_chorizon['claytotal_r_%'])"
   ]
  },
  {
   "cell_type": "code",
   "execution_count": 115,
   "metadata": {},
   "outputs": [
    {
     "data": {
      "text/html": [
       "<div><div id=5e2fd56e-609d-4a0e-89e7-e40bed215133 style=\"display:none; background-color:#9D6CFF; color:white; width:200px; height:30px; padding-left:5px; border-radius:4px; flex-direction:row; justify-content:space-around; align-items:center;\" onmouseover=\"this.style.backgroundColor='#BA9BF8'\" onmouseout=\"this.style.backgroundColor='#9D6CFF'\" onclick=\"window.commands?.execute('create-mitosheet-from-dataframe-output');\">See Full Dataframe in Mito</div> <script> if (window.commands?.hasCommand('create-mitosheet-from-dataframe-output')) document.getElementById('5e2fd56e-609d-4a0e-89e7-e40bed215133').style.display = 'flex' </script> <table border=\"1\" class=\"dataframe\">\n",
       "  <thead>\n",
       "    <tr style=\"text-align: right;\">\n",
       "      <th></th>\n",
       "      <th>hzdept_r_cm</th>\n",
       "      <th>hzdepb_r_cm</th>\n",
       "      <th>hzthk_r_cm</th>\n",
       "      <th>claytotal_r_%</th>\n",
       "      <th>om_r_%</th>\n",
       "      <th>cokey</th>\n",
       "      <th>chkey</th>\n",
       "      <th>clay%_50cm</th>\n",
       "    </tr>\n",
       "  </thead>\n",
       "  <tbody>\n",
       "    <tr>\n",
       "      <th>count</th>\n",
       "      <td>154.00000</td>\n",
       "      <td>154.000000</td>\n",
       "      <td>154.000000</td>\n",
       "      <td>154.000000</td>\n",
       "      <td>154.000000</td>\n",
       "      <td>1.540000e+02</td>\n",
       "      <td>1.540000e+02</td>\n",
       "      <td>154.000000</td>\n",
       "    </tr>\n",
       "    <tr>\n",
       "      <th>mean</th>\n",
       "      <td>48.25974</td>\n",
       "      <td>97.928571</td>\n",
       "      <td>49.668831</td>\n",
       "      <td>23.636364</td>\n",
       "      <td>0.708442</td>\n",
       "      <td>2.185632e+07</td>\n",
       "      <td>6.445215e+07</td>\n",
       "      <td>1.420000</td>\n",
       "    </tr>\n",
       "    <tr>\n",
       "      <th>std</th>\n",
       "      <td>48.65079</td>\n",
       "      <td>66.900776</td>\n",
       "      <td>33.466021</td>\n",
       "      <td>13.405597</td>\n",
       "      <td>0.546642</td>\n",
       "      <td>3.188757e+01</td>\n",
       "      <td>4.460007e+01</td>\n",
       "      <td>2.784204</td>\n",
       "    </tr>\n",
       "    <tr>\n",
       "      <th>min</th>\n",
       "      <td>0.00000</td>\n",
       "      <td>5.000000</td>\n",
       "      <td>5.000000</td>\n",
       "      <td>7.000000</td>\n",
       "      <td>0.000000</td>\n",
       "      <td>2.185627e+07</td>\n",
       "      <td>6.445207e+07</td>\n",
       "      <td>0.000000</td>\n",
       "    </tr>\n",
       "    <tr>\n",
       "      <th>25%</th>\n",
       "      <td>0.00000</td>\n",
       "      <td>30.000000</td>\n",
       "      <td>18.000000</td>\n",
       "      <td>14.000000</td>\n",
       "      <td>0.250000</td>\n",
       "      <td>2.185630e+07</td>\n",
       "      <td>6.445211e+07</td>\n",
       "      <td>0.000000</td>\n",
       "    </tr>\n",
       "    <tr>\n",
       "      <th>50%</th>\n",
       "      <td>28.00000</td>\n",
       "      <td>84.000000</td>\n",
       "      <td>46.000000</td>\n",
       "      <td>22.250000</td>\n",
       "      <td>0.500000</td>\n",
       "      <td>2.185632e+07</td>\n",
       "      <td>6.445215e+07</td>\n",
       "      <td>0.000000</td>\n",
       "    </tr>\n",
       "    <tr>\n",
       "      <th>75%</th>\n",
       "      <td>78.25000</td>\n",
       "      <td>152.000000</td>\n",
       "      <td>69.000000</td>\n",
       "      <td>27.500000</td>\n",
       "      <td>1.250000</td>\n",
       "      <td>2.185635e+07</td>\n",
       "      <td>6.445219e+07</td>\n",
       "      <td>2.400000</td>\n",
       "    </tr>\n",
       "    <tr>\n",
       "      <th>max</th>\n",
       "      <td>183.00000</td>\n",
       "      <td>216.000000</td>\n",
       "      <td>160.000000</td>\n",
       "      <td>72.500000</td>\n",
       "      <td>2.500000</td>\n",
       "      <td>2.185637e+07</td>\n",
       "      <td>6.445223e+07</td>\n",
       "      <td>18.000000</td>\n",
       "    </tr>\n",
       "  </tbody>\n",
       "</table></div>"
      ],
      "text/plain": [
       "       hzdept_r_cm  hzdepb_r_cm  hzthk_r_cm  claytotal_r_%      om_r_%  \\\n",
       "count    154.00000   154.000000  154.000000     154.000000  154.000000   \n",
       "mean      48.25974    97.928571   49.668831      23.636364    0.708442   \n",
       "std       48.65079    66.900776   33.466021      13.405597    0.546642   \n",
       "min        0.00000     5.000000    5.000000       7.000000    0.000000   \n",
       "25%        0.00000    30.000000   18.000000      14.000000    0.250000   \n",
       "50%       28.00000    84.000000   46.000000      22.250000    0.500000   \n",
       "75%       78.25000   152.000000   69.000000      27.500000    1.250000   \n",
       "max      183.00000   216.000000  160.000000      72.500000    2.500000   \n",
       "\n",
       "              cokey         chkey  clay%_50cm  \n",
       "count  1.540000e+02  1.540000e+02  154.000000  \n",
       "mean   2.185632e+07  6.445215e+07    1.420000  \n",
       "std    3.188757e+01  4.460007e+01    2.784204  \n",
       "min    2.185627e+07  6.445207e+07    0.000000  \n",
       "25%    2.185630e+07  6.445211e+07    0.000000  \n",
       "50%    2.185632e+07  6.445215e+07    0.000000  \n",
       "75%    2.185635e+07  6.445219e+07    2.400000  \n",
       "max    2.185637e+07  6.445223e+07   18.000000  "
      ]
     },
     "execution_count": 115,
     "metadata": {},
     "output_type": "execute_result"
    }
   ],
   "source": [
    "df_chorizon.describe()"
   ]
  },
  {
   "cell_type": "code",
   "execution_count": 116,
   "metadata": {},
   "outputs": [
    {
     "data": {
      "text/html": [
       "<div><div id=8868b879-5d59-45ee-88e2-c235967fa667 style=\"display:none; background-color:#9D6CFF; color:white; width:200px; height:30px; padding-left:5px; border-radius:4px; flex-direction:row; justify-content:space-around; align-items:center;\" onmouseover=\"this.style.backgroundColor='#BA9BF8'\" onmouseout=\"this.style.backgroundColor='#9D6CFF'\" onclick=\"window.commands?.execute('create-mitosheet-from-dataframe-output');\">See Full Dataframe in Mito</div> <script> if (window.commands?.hasCommand('create-mitosheet-from-dataframe-output')) document.getElementById('8868b879-5d59-45ee-88e2-c235967fa667').style.display = 'flex' </script> <table border=\"1\" class=\"dataframe\">\n",
       "  <thead>\n",
       "    <tr style=\"text-align: right;\">\n",
       "      <th></th>\n",
       "      <th>hzdept_r_cm</th>\n",
       "      <th>hzdepb_r_cm</th>\n",
       "      <th>hzthk_r_cm</th>\n",
       "      <th>claytotal_r_%</th>\n",
       "      <th>om_r_%</th>\n",
       "      <th>cokey</th>\n",
       "      <th>chkey</th>\n",
       "      <th>clay%_50cm</th>\n",
       "    </tr>\n",
       "  </thead>\n",
       "  <tbody>\n",
       "    <tr>\n",
       "      <th>count</th>\n",
       "      <td>41.0</td>\n",
       "      <td>41.000000</td>\n",
       "      <td>41.000000</td>\n",
       "      <td>41.000000</td>\n",
       "      <td>41.000000</td>\n",
       "      <td>4.100000e+01</td>\n",
       "      <td>4.100000e+01</td>\n",
       "      <td>41.000000</td>\n",
       "    </tr>\n",
       "    <tr>\n",
       "      <th>mean</th>\n",
       "      <td>0.0</td>\n",
       "      <td>21.243902</td>\n",
       "      <td>21.243902</td>\n",
       "      <td>16.743902</td>\n",
       "      <td>1.500000</td>\n",
       "      <td>2.185632e+07</td>\n",
       "      <td>6.445215e+07</td>\n",
       "      <td>4.367805</td>\n",
       "    </tr>\n",
       "    <tr>\n",
       "      <th>std</th>\n",
       "      <td>0.0</td>\n",
       "      <td>16.939275</td>\n",
       "      <td>16.939275</td>\n",
       "      <td>9.494816</td>\n",
       "      <td>0.362284</td>\n",
       "      <td>3.223914e+01</td>\n",
       "      <td>4.495084e+01</td>\n",
       "      <td>3.398910</td>\n",
       "    </tr>\n",
       "    <tr>\n",
       "      <th>min</th>\n",
       "      <td>0.0</td>\n",
       "      <td>5.000000</td>\n",
       "      <td>5.000000</td>\n",
       "      <td>7.000000</td>\n",
       "      <td>1.250000</td>\n",
       "      <td>2.185627e+07</td>\n",
       "      <td>6.445208e+07</td>\n",
       "      <td>0.000000</td>\n",
       "    </tr>\n",
       "    <tr>\n",
       "      <th>25%</th>\n",
       "      <td>0.0</td>\n",
       "      <td>10.000000</td>\n",
       "      <td>10.000000</td>\n",
       "      <td>12.500000</td>\n",
       "      <td>1.250000</td>\n",
       "      <td>2.185630e+07</td>\n",
       "      <td>6.445211e+07</td>\n",
       "      <td>2.550000</td>\n",
       "    </tr>\n",
       "    <tr>\n",
       "      <th>50%</th>\n",
       "      <td>0.0</td>\n",
       "      <td>15.000000</td>\n",
       "      <td>15.000000</td>\n",
       "      <td>15.000000</td>\n",
       "      <td>1.250000</td>\n",
       "      <td>2.185632e+07</td>\n",
       "      <td>6.445215e+07</td>\n",
       "      <td>4.200000</td>\n",
       "    </tr>\n",
       "    <tr>\n",
       "      <th>75%</th>\n",
       "      <td>0.0</td>\n",
       "      <td>23.000000</td>\n",
       "      <td>23.000000</td>\n",
       "      <td>17.500000</td>\n",
       "      <td>1.750000</td>\n",
       "      <td>2.185635e+07</td>\n",
       "      <td>6.445218e+07</td>\n",
       "      <td>5.720000</td>\n",
       "    </tr>\n",
       "    <tr>\n",
       "      <th>max</th>\n",
       "      <td>0.0</td>\n",
       "      <td>71.000000</td>\n",
       "      <td>71.000000</td>\n",
       "      <td>60.000000</td>\n",
       "      <td>2.500000</td>\n",
       "      <td>2.185637e+07</td>\n",
       "      <td>6.445222e+07</td>\n",
       "      <td>18.000000</td>\n",
       "    </tr>\n",
       "  </tbody>\n",
       "</table></div>"
      ],
      "text/plain": [
       "       hzdept_r_cm  hzdepb_r_cm  hzthk_r_cm  claytotal_r_%     om_r_%  \\\n",
       "count         41.0    41.000000   41.000000      41.000000  41.000000   \n",
       "mean           0.0    21.243902   21.243902      16.743902   1.500000   \n",
       "std            0.0    16.939275   16.939275       9.494816   0.362284   \n",
       "min            0.0     5.000000    5.000000       7.000000   1.250000   \n",
       "25%            0.0    10.000000   10.000000      12.500000   1.250000   \n",
       "50%            0.0    15.000000   15.000000      15.000000   1.250000   \n",
       "75%            0.0    23.000000   23.000000      17.500000   1.750000   \n",
       "max            0.0    71.000000   71.000000      60.000000   2.500000   \n",
       "\n",
       "              cokey         chkey  clay%_50cm  \n",
       "count  4.100000e+01  4.100000e+01   41.000000  \n",
       "mean   2.185632e+07  6.445215e+07    4.367805  \n",
       "std    3.223914e+01  4.495084e+01    3.398910  \n",
       "min    2.185627e+07  6.445208e+07    0.000000  \n",
       "25%    2.185630e+07  6.445211e+07    2.550000  \n",
       "50%    2.185632e+07  6.445215e+07    4.200000  \n",
       "75%    2.185635e+07  6.445218e+07    5.720000  \n",
       "max    2.185637e+07  6.445222e+07   18.000000  "
      ]
     },
     "execution_count": 116,
     "metadata": {},
     "output_type": "execute_result"
    }
   ],
   "source": [
    "# another way to summarize per cokey - just get only info from the top horizon\n",
    "\n",
    "df_A_horz = df_chorizon.loc[df_chorizon['hzdept_r_cm'] == 0]\n",
    "\n",
    "df_A_horz.describe()"
   ]
  },
  {
   "cell_type": "code",
   "execution_count": 117,
   "metadata": {},
   "outputs": [
    {
     "name": "stdout",
     "output_type": "stream",
     "text": [
      "<class 'pandas.core.frame.DataFrame'>\n",
      "RangeIndex: 41 entries, 0 to 40\n",
      "Data columns (total 2 columns):\n",
      " #   Column      Non-Null Count  Dtype  \n",
      "---  ------      --------------  -----  \n",
      " 0   cokey       41 non-null     int64  \n",
      " 1   clay%_50cm  41 non-null     float64\n",
      "dtypes: float64(1), int64(1)\n",
      "memory usage: 784.0 bytes\n"
     ]
    }
   ],
   "source": [
    "# summarize clay%_50cm pey cokey\n",
    "\n",
    "df_cokey = df_chorizon.groupby('cokey', as_index=False).agg({'clay%_50cm': sum})\n",
    "df_cokey.info()"
   ]
  },
  {
   "cell_type": "code",
   "execution_count": 118,
   "metadata": {},
   "outputs": [
    {
     "data": {
      "text/html": [
       "<div><div id=675cc7fe-55f2-4cdc-99cc-2ca653cf3f4f style=\"display:none; background-color:#9D6CFF; color:white; width:200px; height:30px; padding-left:5px; border-radius:4px; flex-direction:row; justify-content:space-around; align-items:center;\" onmouseover=\"this.style.backgroundColor='#BA9BF8'\" onmouseout=\"this.style.backgroundColor='#9D6CFF'\" onclick=\"window.commands?.execute('create-mitosheet-from-dataframe-output');\">See Full Dataframe in Mito</div> <script> if (window.commands?.hasCommand('create-mitosheet-from-dataframe-output')) document.getElementById('675cc7fe-55f2-4cdc-99cc-2ca653cf3f4f').style.display = 'flex' </script> <table border=\"1\" class=\"dataframe\">\n",
       "  <thead>\n",
       "    <tr style=\"text-align: right;\">\n",
       "      <th></th>\n",
       "      <th>cokey</th>\n",
       "      <th>clay%_50cm</th>\n",
       "    </tr>\n",
       "  </thead>\n",
       "  <tbody>\n",
       "    <tr>\n",
       "      <th>count</th>\n",
       "      <td>4.100000e+01</td>\n",
       "      <td>41.000000</td>\n",
       "    </tr>\n",
       "    <tr>\n",
       "      <th>mean</th>\n",
       "      <td>2.185632e+07</td>\n",
       "      <td>5.333659</td>\n",
       "    </tr>\n",
       "    <tr>\n",
       "      <th>std</th>\n",
       "      <td>3.223914e+01</td>\n",
       "      <td>4.165995</td>\n",
       "    </tr>\n",
       "    <tr>\n",
       "      <th>min</th>\n",
       "      <td>2.185627e+07</td>\n",
       "      <td>0.000000</td>\n",
       "    </tr>\n",
       "    <tr>\n",
       "      <th>25%</th>\n",
       "      <td>2.185630e+07</td>\n",
       "      <td>2.800000</td>\n",
       "    </tr>\n",
       "    <tr>\n",
       "      <th>50%</th>\n",
       "      <td>2.185632e+07</td>\n",
       "      <td>4.370000</td>\n",
       "    </tr>\n",
       "    <tr>\n",
       "      <th>75%</th>\n",
       "      <td>2.185635e+07</td>\n",
       "      <td>6.900000</td>\n",
       "    </tr>\n",
       "    <tr>\n",
       "      <th>max</th>\n",
       "      <td>2.185637e+07</td>\n",
       "      <td>18.000000</td>\n",
       "    </tr>\n",
       "  </tbody>\n",
       "</table></div>"
      ],
      "text/plain": [
       "              cokey  clay%_50cm\n",
       "count  4.100000e+01   41.000000\n",
       "mean   2.185632e+07    5.333659\n",
       "std    3.223914e+01    4.165995\n",
       "min    2.185627e+07    0.000000\n",
       "25%    2.185630e+07    2.800000\n",
       "50%    2.185632e+07    4.370000\n",
       "75%    2.185635e+07    6.900000\n",
       "max    2.185637e+07   18.000000"
      ]
     },
     "execution_count": 118,
     "metadata": {},
     "output_type": "execute_result"
    }
   ],
   "source": [
    "df_cokey.describe()"
   ]
  },
  {
   "cell_type": "code",
   "execution_count": 119,
   "metadata": {},
   "outputs": [
    {
     "name": "stdout",
     "output_type": "stream",
     "text": [
      "C:\\c_repos\\lv_soils\\SSURGO\\AR\\AR043\\tabular\\comp.txt\n"
     ]
    }
   ],
   "source": [
    "# load COMPONENT table (comp.txt) and link % Clay 50 to soil component \n",
    "comp = '\\comp.txt'\n",
    "\n",
    "com_path = 'C:\\c_repos\\lv_soils\\SSURGO' +  state + county + '\\\\tabular' + comp\n",
    "\n",
    "print(com_path)\n"
   ]
  },
  {
   "cell_type": "code",
   "execution_count": 120,
   "metadata": {},
   "outputs": [
    {
     "data": {
      "text/html": [
       "<div><div id=bf29e94b-7631-4926-a2a6-1ae515665ef4 style=\"display:none; background-color:#9D6CFF; color:white; width:200px; height:30px; padding-left:5px; border-radius:4px; flex-direction:row; justify-content:space-around; align-items:center;\" onmouseover=\"this.style.backgroundColor='#BA9BF8'\" onmouseout=\"this.style.backgroundColor='#9D6CFF'\" onclick=\"window.commands?.execute('create-mitosheet-from-dataframe-output');\">See Full Dataframe in Mito</div> <script> if (window.commands?.hasCommand('create-mitosheet-from-dataframe-output')) document.getElementById('bf29e94b-7631-4926-a2a6-1ae515665ef4').style.display = 'flex' </script> <table border=\"1\" class=\"dataframe\">\n",
       "  <thead>\n",
       "    <tr style=\"text-align: right;\">\n",
       "      <th></th>\n",
       "      <th>comppct_r</th>\n",
       "      <th>compname</th>\n",
       "      <th>compkind</th>\n",
       "      <th>majcompflag</th>\n",
       "      <th>taxclname</th>\n",
       "      <th>mukey</th>\n",
       "      <th>cokey</th>\n",
       "    </tr>\n",
       "  </thead>\n",
       "  <tbody>\n",
       "    <tr>\n",
       "      <th>0</th>\n",
       "      <td>3</td>\n",
       "      <td>Pheba</td>\n",
       "      <td>Series</td>\n",
       "      <td>No</td>\n",
       "      <td>Coarse-silty, siliceous, active, thermic Glossaquic Fragiudults</td>\n",
       "      <td>565443</td>\n",
       "      <td>21856316</td>\n",
       "    </tr>\n",
       "    <tr>\n",
       "      <th>1</th>\n",
       "      <td>95</td>\n",
       "      <td>Amy</td>\n",
       "      <td>Series</td>\n",
       "      <td>Yes</td>\n",
       "      <td>Fine-silty, siliceous, semiactive, thermic Typic Endoaquults</td>\n",
       "      <td>565443</td>\n",
       "      <td>21856317</td>\n",
       "    </tr>\n",
       "    <tr>\n",
       "      <th>2</th>\n",
       "      <td>2</td>\n",
       "      <td>Aquults</td>\n",
       "      <td>Taxon above family</td>\n",
       "      <td>No</td>\n",
       "      <td>Aquults</td>\n",
       "      <td>565443</td>\n",
       "      <td>21856318</td>\n",
       "    </tr>\n",
       "  </tbody>\n",
       "</table></div>"
      ],
      "text/plain": [
       "   comppct_r compname            compkind majcompflag  \\\n",
       "0          3    Pheba              Series         No    \n",
       "1         95      Amy              Series         Yes   \n",
       "2          2  Aquults  Taxon above family         No    \n",
       "\n",
       "                                           taxclname   mukey     cokey  \n",
       "0  Coarse-silty, siliceous, active, thermic Gloss...  565443  21856316  \n",
       "1  Fine-silty, siliceous, semiactive, thermic Typ...  565443  21856317  \n",
       "2                                            Aquults  565443  21856318  "
      ]
     },
     "execution_count": 120,
     "metadata": {},
     "output_type": "execute_result"
    }
   ],
   "source": [
    "#loading soil COMPONENT table into df\n",
    "'''\n",
    "\n",
    "'''\n",
    "col_comp = ['comppct_r','compname', 'compkind', 'majcompflag', 'taxclname', 'mukey', 'cokey']\n",
    "\n",
    "df_comp = pd.read_csv(com_path, delimiter='|', index_col=False, usecols=[1, 3, 4, 5, 82, 107, 108], names=col_comp)\n",
    "df_comp.head(3)"
   ]
  },
  {
   "cell_type": "code",
   "execution_count": 121,
   "metadata": {},
   "outputs": [
    {
     "name": "stdout",
     "output_type": "stream",
     "text": [
      "<class 'pandas.core.frame.DataFrame'>\n",
      "RangeIndex: 114 entries, 0 to 113\n",
      "Data columns (total 7 columns):\n",
      " #   Column       Non-Null Count  Dtype \n",
      "---  ------       --------------  ----- \n",
      " 0   comppct_r    114 non-null    int64 \n",
      " 1   compname     114 non-null    object\n",
      " 2   compkind     110 non-null    object\n",
      " 3   majcompflag  114 non-null    object\n",
      " 4   taxclname    55 non-null     object\n",
      " 5   mukey        114 non-null    int64 \n",
      " 6   cokey        114 non-null    int64 \n",
      "dtypes: int64(3), object(4)\n",
      "memory usage: 6.4+ KB\n"
     ]
    }
   ],
   "source": [
    "df_comp.info()"
   ]
  },
  {
   "cell_type": "code",
   "execution_count": 122,
   "metadata": {},
   "outputs": [
    {
     "data": {
      "text/html": [
       "<div><div id=4c9a721b-4588-40fe-aca6-b0863d32ec68 style=\"display:none; background-color:#9D6CFF; color:white; width:200px; height:30px; padding-left:5px; border-radius:4px; flex-direction:row; justify-content:space-around; align-items:center;\" onmouseover=\"this.style.backgroundColor='#BA9BF8'\" onmouseout=\"this.style.backgroundColor='#9D6CFF'\" onclick=\"window.commands?.execute('create-mitosheet-from-dataframe-output');\">See Full Dataframe in Mito</div> <script> if (window.commands?.hasCommand('create-mitosheet-from-dataframe-output')) document.getElementById('4c9a721b-4588-40fe-aca6-b0863d32ec68').style.display = 'flex' </script> <table border=\"1\" class=\"dataframe\">\n",
       "  <thead>\n",
       "    <tr style=\"text-align: right;\">\n",
       "      <th></th>\n",
       "      <th>comppct_r</th>\n",
       "      <th>compname</th>\n",
       "      <th>compkind</th>\n",
       "      <th>majcompflag</th>\n",
       "      <th>taxclname</th>\n",
       "      <th>mukey</th>\n",
       "      <th>cokey</th>\n",
       "      <th>hzname</th>\n",
       "      <th>hzdept_r_cm</th>\n",
       "      <th>hzdepb_r_cm</th>\n",
       "      <th>hzthk_r_cm</th>\n",
       "      <th>claytotal_r_%</th>\n",
       "      <th>om_r_%</th>\n",
       "      <th>chkey</th>\n",
       "      <th>clay%_50cm</th>\n",
       "    </tr>\n",
       "  </thead>\n",
       "  <tbody>\n",
       "    <tr>\n",
       "      <th>0</th>\n",
       "      <td>3</td>\n",
       "      <td>Pheba</td>\n",
       "      <td>Series</td>\n",
       "      <td>No</td>\n",
       "      <td>Coarse-silty, siliceous, active, thermic Glossaquic Fragiudults</td>\n",
       "      <td>565443</td>\n",
       "      <td>21856316</td>\n",
       "      <td>NaN</td>\n",
       "      <td>NaN</td>\n",
       "      <td>NaN</td>\n",
       "      <td>NaN</td>\n",
       "      <td>NaN</td>\n",
       "      <td>NaN</td>\n",
       "      <td>NaN</td>\n",
       "      <td>NaN</td>\n",
       "    </tr>\n",
       "    <tr>\n",
       "      <th>1</th>\n",
       "      <td>95</td>\n",
       "      <td>Amy</td>\n",
       "      <td>Series</td>\n",
       "      <td>Yes</td>\n",
       "      <td>Fine-silty, siliceous, semiactive, thermic Typic Endoaquults</td>\n",
       "      <td>565443</td>\n",
       "      <td>21856317</td>\n",
       "      <td>A</td>\n",
       "      <td>0.0</td>\n",
       "      <td>8.0</td>\n",
       "      <td>8.0</td>\n",
       "      <td>15.0</td>\n",
       "      <td>1.75</td>\n",
       "      <td>64452142.0</td>\n",
       "      <td>2.4</td>\n",
       "    </tr>\n",
       "    <tr>\n",
       "      <th>2</th>\n",
       "      <td>2</td>\n",
       "      <td>Aquults</td>\n",
       "      <td>Taxon above family</td>\n",
       "      <td>No</td>\n",
       "      <td>Aquults</td>\n",
       "      <td>565443</td>\n",
       "      <td>21856318</td>\n",
       "      <td>NaN</td>\n",
       "      <td>NaN</td>\n",
       "      <td>NaN</td>\n",
       "      <td>NaN</td>\n",
       "      <td>NaN</td>\n",
       "      <td>NaN</td>\n",
       "      <td>NaN</td>\n",
       "      <td>NaN</td>\n",
       "    </tr>\n",
       "    <tr>\n",
       "      <th>3</th>\n",
       "      <td>90</td>\n",
       "      <td>Amy</td>\n",
       "      <td>Series</td>\n",
       "      <td>Yes</td>\n",
       "      <td>Fine-silty, siliceous, semiactive, thermic Typic Endoaquults</td>\n",
       "      <td>565444</td>\n",
       "      <td>21856345</td>\n",
       "      <td>A</td>\n",
       "      <td>0.0</td>\n",
       "      <td>8.0</td>\n",
       "      <td>8.0</td>\n",
       "      <td>15.0</td>\n",
       "      <td>1.75</td>\n",
       "      <td>64452180.0</td>\n",
       "      <td>2.4</td>\n",
       "    </tr>\n",
       "    <tr>\n",
       "      <th>4</th>\n",
       "      <td>5</td>\n",
       "      <td>Aquults</td>\n",
       "      <td>Taxon above family</td>\n",
       "      <td>No</td>\n",
       "      <td>Thermic Aquults</td>\n",
       "      <td>565444</td>\n",
       "      <td>21856346</td>\n",
       "      <td>NaN</td>\n",
       "      <td>NaN</td>\n",
       "      <td>NaN</td>\n",
       "      <td>NaN</td>\n",
       "      <td>NaN</td>\n",
       "      <td>NaN</td>\n",
       "      <td>NaN</td>\n",
       "      <td>NaN</td>\n",
       "    </tr>\n",
       "  </tbody>\n",
       "</table></div>"
      ],
      "text/plain": [
       "   comppct_r compname            compkind majcompflag  \\\n",
       "0          3    Pheba              Series         No    \n",
       "1         95      Amy              Series         Yes   \n",
       "2          2  Aquults  Taxon above family         No    \n",
       "3         90      Amy              Series         Yes   \n",
       "4          5  Aquults  Taxon above family         No    \n",
       "\n",
       "                                           taxclname   mukey     cokey hzname  \\\n",
       "0  Coarse-silty, siliceous, active, thermic Gloss...  565443  21856316    NaN   \n",
       "1  Fine-silty, siliceous, semiactive, thermic Typ...  565443  21856317      A   \n",
       "2                                            Aquults  565443  21856318    NaN   \n",
       "3  Fine-silty, siliceous, semiactive, thermic Typ...  565444  21856345      A   \n",
       "4                                    Thermic Aquults  565444  21856346    NaN   \n",
       "\n",
       "   hzdept_r_cm  hzdepb_r_cm  hzthk_r_cm  claytotal_r_%  om_r_%       chkey  \\\n",
       "0          NaN          NaN         NaN            NaN     NaN         NaN   \n",
       "1          0.0          8.0         8.0           15.0    1.75  64452142.0   \n",
       "2          NaN          NaN         NaN            NaN     NaN         NaN   \n",
       "3          0.0          8.0         8.0           15.0    1.75  64452180.0   \n",
       "4          NaN          NaN         NaN            NaN     NaN         NaN   \n",
       "\n",
       "   clay%_50cm  \n",
       "0         NaN  \n",
       "1         2.4  \n",
       "2         NaN  \n",
       "3         2.4  \n",
       "4         NaN  "
      ]
     },
     "execution_count": 122,
     "metadata": {},
     "output_type": "execute_result"
    }
   ],
   "source": [
    "# merge %clay in 50 cm\n",
    "\n",
    "df_clay_comp = df_comp.merge(df_A_horz, on='cokey', how='left')\n",
    "\n",
    "df_clay_comp.head()"
   ]
  },
  {
   "cell_type": "code",
   "execution_count": 123,
   "metadata": {},
   "outputs": [],
   "source": [
    "# calculate % clay per MUKEY\n",
    "# making weighted clay value per MUKEY\n",
    "\n",
    "df_clay_comp['clay%_mu'] = df_clay_comp['claytotal_r_%'] * df_clay_comp['comppct_r'] / 100"
   ]
  },
  {
   "cell_type": "code",
   "execution_count": 124,
   "metadata": {},
   "outputs": [],
   "source": [
    "# summary of clay per MUKEY\n",
    "df_mukey = df_clay_comp.groupby('mukey', as_index=False).agg({'clay%_mu': sum})\n",
    "\n"
   ]
  },
  {
   "cell_type": "code",
   "execution_count": 125,
   "metadata": {},
   "outputs": [
    {
     "data": {
      "text/plain": [
       "<AxesSubplot:>"
      ]
     },
     "execution_count": 125,
     "metadata": {},
     "output_type": "execute_result"
    },
    {
     "data": {
      "image/png": "[encoded data removed]",
      "text/plain": [
       "<Figure size 432x288 with 1 Axes>"
      ]
     },
     "metadata": {
      "needs_background": "light"
     },
     "output_type": "display_data"
    }
   ],
   "source": [
    "df_mukey['clay%_mu'].hist()"
   ]
  },
  {
   "cell_type": "code",
   "execution_count": 126,
   "metadata": {},
   "outputs": [
    {
     "name": "stdout",
     "output_type": "stream",
     "text": [
      "<class 'pandas.core.frame.DataFrame'>\n",
      "RangeIndex: 45 entries, 0 to 44\n",
      "Data columns (total 2 columns):\n",
      " #   Column    Non-Null Count  Dtype  \n",
      "---  ------    --------------  -----  \n",
      " 0   mukey     45 non-null     int64  \n",
      " 1   clay%_mu  45 non-null     float64\n",
      "dtypes: float64(1), int64(1)\n",
      "memory usage: 848.0 bytes\n"
     ]
    }
   ],
   "source": [
    "df_mukey.info()"
   ]
  },
  {
   "cell_type": "code",
   "execution_count": 127,
   "metadata": {},
   "outputs": [
    {
     "data": {
      "text/html": [
       "<div><div id=a8ea014c-e546-4ac5-97c7-950b6f08afb0 style=\"display:none; background-color:#9D6CFF; color:white; width:200px; height:30px; padding-left:5px; border-radius:4px; flex-direction:row; justify-content:space-around; align-items:center;\" onmouseover=\"this.style.backgroundColor='#BA9BF8'\" onmouseout=\"this.style.backgroundColor='#9D6CFF'\" onclick=\"window.commands?.execute('create-mitosheet-from-dataframe-output');\">See Full Dataframe in Mito</div> <script> if (window.commands?.hasCommand('create-mitosheet-from-dataframe-output')) document.getElementById('a8ea014c-e546-4ac5-97c7-950b6f08afb0').style.display = 'flex' </script> <table border=\"1\" class=\"dataframe\">\n",
       "  <thead>\n",
       "    <tr style=\"text-align: right;\">\n",
       "      <th></th>\n",
       "      <th>mukey</th>\n",
       "      <th>clay%_mu</th>\n",
       "    </tr>\n",
       "  </thead>\n",
       "  <tbody>\n",
       "    <tr>\n",
       "      <th>count</th>\n",
       "      <td>4.500000e+01</td>\n",
       "      <td>45.000000</td>\n",
       "    </tr>\n",
       "    <tr>\n",
       "      <th>mean</th>\n",
       "      <td>6.654422e+05</td>\n",
       "      <td>12.918889</td>\n",
       "    </tr>\n",
       "    <tr>\n",
       "      <th>std</th>\n",
       "      <td>3.237066e+05</td>\n",
       "      <td>9.319205</td>\n",
       "    </tr>\n",
       "    <tr>\n",
       "      <th>min</th>\n",
       "      <td>5.654430e+05</td>\n",
       "      <td>0.000000</td>\n",
       "    </tr>\n",
       "    <tr>\n",
       "      <th>25%</th>\n",
       "      <td>5.654540e+05</td>\n",
       "      <td>9.025000</td>\n",
       "    </tr>\n",
       "    <tr>\n",
       "      <th>50%</th>\n",
       "      <td>5.654650e+05</td>\n",
       "      <td>12.500000</td>\n",
       "    </tr>\n",
       "    <tr>\n",
       "      <th>75%</th>\n",
       "      <td>5.654760e+05</td>\n",
       "      <td>15.750000</td>\n",
       "    </tr>\n",
       "    <tr>\n",
       "      <th>max</th>\n",
       "      <td>1.690251e+06</td>\n",
       "      <td>54.000000</td>\n",
       "    </tr>\n",
       "  </tbody>\n",
       "</table></div>"
      ],
      "text/plain": [
       "              mukey   clay%_mu\n",
       "count  4.500000e+01  45.000000\n",
       "mean   6.654422e+05  12.918889\n",
       "std    3.237066e+05   9.319205\n",
       "min    5.654430e+05   0.000000\n",
       "25%    5.654540e+05   9.025000\n",
       "50%    5.654650e+05  12.500000\n",
       "75%    5.654760e+05  15.750000\n",
       "max    1.690251e+06  54.000000"
      ]
     },
     "execution_count": 127,
     "metadata": {},
     "output_type": "execute_result"
    }
   ],
   "source": [
    "df_mukey.describe()"
   ]
  },
  {
   "cell_type": "code",
   "execution_count": 128,
   "metadata": {},
   "outputs": [],
   "source": [
    "# save all summary tables in Excel file per county\n",
    "# Write multiple DataFrames to Excel file - version removed duplicates???\n",
    "with pd.ExcelWriter('..\\SSURGO\\AR\\AR043_soils.xlsx') as writer:    \n",
    "    df_mukey.to_excel(writer, sheet_name='mukey_clay', index=False) \n",
    "    df_clay_comp.to_excel(writer, sheet_name='cokey_soil', index=False)\n",
    "    df_A_horz.to_excel(writer, sheet_name='A_horizon', index=False) \n",
    "    df_chorizon.to_excel(writer, sheet_name='all_horizons', index=False)   \n"
   ]
  },
  {
   "cell_type": "code",
   "execution_count": 129,
   "metadata": {},
   "outputs": [],
   "source": [
    "# copy df_mukey to county specific\n",
    "\n",
    "df_AR043_muclay = df_mukey.copy()"
   ]
  },
  {
   "cell_type": "markdown",
   "metadata": {},
   "source": [
    "Repeat the above for each county in question."
   ]
  },
  {
   "cell_type": "code",
   "execution_count": 131,
   "metadata": {},
   "outputs": [],
   "source": [
    "# merge dfs of % Clay per mukey of all counties\n",
    "\n",
    "dfs_lst = ['df_AR003_muclay', 'df_AR017_muclay', 'df_AR041_muclay', 'df_AR043_muclay']\n",
    "\n",
    "def join_dfs(dfs_list):\n",
    "    df1 = pd.DataFrame()\n",
    "    n = 0\n",
    "\n",
    "    for df in range(len(dfs_list)):\n",
    "        if df1.empty:\n",
    "            df1 = dfs_list[n]\n",
    "            n+=1\n",
    "        else:\n",
    "            df2 = dfs_list[n+1]\n",
    "            df1 = df1.append(df2, ignore_index=True, sort = True) # sort = True is added after received warning about further versions of Anaconda/Pandas\n",
    "            n+=1\n",
    "    return df1\n"
   ]
  },
  {
   "cell_type": "code",
   "execution_count": 133,
   "metadata": {},
   "outputs": [
    {
     "name": "stderr",
     "output_type": "stream",
     "text": [
      "C:\\Users\\laris\\AppData\\Local\\Temp\\ipykernel_25864\\3798457251.py:1: FutureWarning: The frame.append method is deprecated and will be removed from pandas in a future version. Use pandas.concat instead.\n",
      "  df_mu2 = df_AR003_muclay.append(df_AR017_muclay, ignore_index=True, sort = True)\n"
     ]
    }
   ],
   "source": [
    "df_mu2 = df_AR003_muclay.append(df_AR017_muclay, ignore_index=True, sort = True)"
   ]
  },
  {
   "cell_type": "code",
   "execution_count": 138,
   "metadata": {},
   "outputs": [
    {
     "name": "stderr",
     "output_type": "stream",
     "text": [
      "C:\\Users\\laris\\AppData\\Local\\Temp\\ipykernel_25864\\2996228991.py:1: FutureWarning: The frame.append method is deprecated and will be removed from pandas in a future version. Use pandas.concat instead.\n",
      "  df_mu3 = df_mu2.append(df_AR041_muclay, ignore_index=True, sort = True)\n"
     ]
    }
   ],
   "source": [
    "df_mu3 = df_mu2.append(df_AR041_muclay, ignore_index=True, sort = True)"
   ]
  },
  {
   "cell_type": "code",
   "execution_count": 140,
   "metadata": {},
   "outputs": [
    {
     "name": "stderr",
     "output_type": "stream",
     "text": [
      "C:\\Users\\laris\\AppData\\Local\\Temp\\ipykernel_25864\\3755712860.py:1: FutureWarning: The frame.append method is deprecated and will be removed from pandas in a future version. Use pandas.concat instead.\n",
      "  df_mu4 = df_mu3.append(df_AR043_muclay, ignore_index=True, sort = True)\n"
     ]
    }
   ],
   "source": [
    "df_mu4 = df_mu3.append(df_AR043_muclay, ignore_index=True, sort = True)"
   ]
  },
  {
   "cell_type": "code",
   "execution_count": 141,
   "metadata": {},
   "outputs": [
    {
     "data": {
      "text/plain": [
       "0"
      ]
     },
     "execution_count": 141,
     "metadata": {},
     "output_type": "execute_result"
    }
   ],
   "source": [
    "df_mu4.duplicated().sum()"
   ]
  },
  {
   "cell_type": "code",
   "execution_count": 143,
   "metadata": {},
   "outputs": [],
   "source": [
    "# export complete mu_clay df as CSV\n",
    "\n",
    "df_mu4.to_csv('mukey_topclay.csv', index=False)"
   ]
  },
  {
   "cell_type": "code",
   "execution_count": 132,
   "metadata": {},
   "outputs": [
    {
     "ename": "AttributeError",
     "evalue": "'str' object has no attribute 'empty'",
     "output_type": "error",
     "traceback": [
      "\u001b[1;31m---------------------------------------------------------------------------\u001b[0m",
      "\u001b[1;31mAttributeError\u001b[0m                            Traceback (most recent call last)",
      "Input \u001b[1;32mIn [132]\u001b[0m, in \u001b[0;36m<cell line: 3>\u001b[1;34m()\u001b[0m\n\u001b[0;32m      1\u001b[0m \u001b[39m# merge county mukeys\u001b[39;00m\n\u001b[1;32m----> 3\u001b[0m df_mu4 \u001b[39m=\u001b[39m join_dfs(dfs_lst)\n\u001b[0;32m      5\u001b[0m df_mu4\u001b[39m.\u001b[39minfo()\n",
      "\u001b[1;32mc:\\c_repos\\lv_soils\\py\\mukey_prc_clay.ipynb Cell 25'\u001b[0m in \u001b[0;36mjoin_dfs\u001b[1;34m(dfs_list)\u001b[0m\n\u001b[0;32m      <a href='vscode-notebook-cell:/c%3A/c_repos/lv_soils/py/mukey_prc_clay.ipynb#ch0000038?line=6'>7</a>\u001b[0m n \u001b[39m=\u001b[39m \u001b[39m0\u001b[39m\n\u001b[0;32m      <a href='vscode-notebook-cell:/c%3A/c_repos/lv_soils/py/mukey_prc_clay.ipynb#ch0000038?line=8'>9</a>\u001b[0m \u001b[39mfor\u001b[39;00m df \u001b[39min\u001b[39;00m \u001b[39mrange\u001b[39m(\u001b[39mlen\u001b[39m(dfs_list)):\n\u001b[1;32m---> <a href='vscode-notebook-cell:/c%3A/c_repos/lv_soils/py/mukey_prc_clay.ipynb#ch0000038?line=9'>10</a>\u001b[0m     \u001b[39mif\u001b[39;00m df1\u001b[39m.\u001b[39;49mempty:\n\u001b[0;32m     <a href='vscode-notebook-cell:/c%3A/c_repos/lv_soils/py/mukey_prc_clay.ipynb#ch0000038?line=10'>11</a>\u001b[0m         df1 \u001b[39m=\u001b[39m dfs_list[n]\n\u001b[0;32m     <a href='vscode-notebook-cell:/c%3A/c_repos/lv_soils/py/mukey_prc_clay.ipynb#ch0000038?line=11'>12</a>\u001b[0m         n\u001b[39m+\u001b[39m\u001b[39m=\u001b[39m\u001b[39m1\u001b[39m\n",
      "\u001b[1;31mAttributeError\u001b[0m: 'str' object has no attribute 'empty'"
     ]
    }
   ],
   "source": [
    "# merge county mukeys\n",
    "\n",
    "df_mu4 = join_dfs(dfs_lst)\n",
    "\n",
    "df_mu4.info()"
   ]
  },
  {
   "cell_type": "markdown",
   "metadata": {},
   "source": [
    "### scratch pad "
   ]
  },
  {
   "cell_type": "code",
   "execution_count": null,
   "metadata": {},
   "outputs": [],
   "source": [
    "# recalculate % CLAY as Vertical weighted average to 50 cm per chkey (soil horizon key)\n",
    "'''\n",
    "For this example, let’s derive a weighted average value for total clay in the upper 50 centimeters of the soil.\n",
    "Step 1 – For each component, compute a weighted average value for total clay in the upper 50\n",
    "centimeters of the soil. Where soil depth is less than 50 cm, use whatever lowest depth is\n",
    "available.\n",
    "Total Clay in the Upper 50 cm (or less) = Σ (horizon thickness/total thickness*total clay) for all\n",
    "included soil horizons\n",
    "'''\n",
    "def horz50(df, clow, chi, clay):\n",
    "\n",
    "    if df[clow] > 50:\n",
    "        df['clay%_50cm'] = 0\n",
    "        continue\n",
    "            \n",
    "    elif (df[clow] <= 50) & (df[chi] <= 50):\n",
    "        df['clay%_50cm'] = (df[chi] - df[clow])/50 * df[clay]\n",
    "        continue\n",
    "    \n",
    "    elif (df[clow] <= 50) & (df[chi] > 50):\n",
    "        df['clay%_50cm'] = (50 - df[clow])/50 * df[clay]  \n",
    "\n",
    "    return df\n",
    "            "
   ]
  }
 ],
 "metadata": {
  "kernelspec": {
   "display_name": "Python 3",
   "language": "python",
   "name": "python3"
  },
  "language_info": {
   "codemirror_mode": {
    "name": "ipython",
    "version": 3
   },
   "file_extension": ".py",
   "mimetype": "text/x-python",
   "name": "python",
   "nbconvert_exporter": "python",
   "pygments_lexer": "ipython3",
   "version": "3.8.10"
  },
  "orig_nbformat": 4,
  "vscode": {
   "interpreter": {
    "hash": "cbe1def05f6a56b0375de553561a47a20a1762ba6409795459e9951ee240c116"
   }
  }
 },
 "nbformat": 4,
 "nbformat_minor": 2
}
