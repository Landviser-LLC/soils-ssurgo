{
 "cells": [
  {
   "cell_type": "code",
   "execution_count": 2,
   "id": "4251106c",
   "metadata": {},
   "outputs": [
    {
     "name": "stderr",
     "output_type": "stream",
     "text": [
      "C:\\Users\\laris\\AppData\\Local\\Temp\\ipykernel_28196\\34847836.py:31: FionaDeprecationWarning: instances of this class -- CRS, geometry, and feature objects -- will become immutable in fiona version 2.0\n",
      "  feature['properties'] = {column_name: value for column_name, value in feature['properties'].items() if column_name in keep_columns}\n"
     ]
    },
    {
     "name": "stdout",
     "output_type": "stream",
     "text": [
      "33.33\n"
     ]
    }
   ],
   "source": [
    "import geopandas as gpd\n",
    "import pandas as pd\n",
    "import matplotlib.pyplot as plt\n",
    "import fiona\n",
    "from shapely.geometry import Polygon\n",
    "\n",
    "field_plot=Polygon([(-91.434, 33.442),(-91.435, 33.444),(-91.438, 33.444),(-91.438,33.442)])\n",
    "shapefile_src = 'soilmu_a_ar017.shp'\n",
    "excelfile_src = 'AR017_soils.xlsx'\n",
    "geom_list = []\n",
    "\n",
    "def excel_reader():\n",
    "    mukey_clay_dict={}\n",
    "    mukey_clay_df = pd.read_excel(excelfile_src)\n",
    "    mukey_clay_df = mukey_clay_df.reset_index()\n",
    "    for index, row in mukey_clay_df.iterrows():\n",
    "        mukey_clay_dict[str(int(row['mukey']))]=row['clay%_mu']\n",
    "    return mukey_clay_dict\n",
    "\n",
    "def mukey_field_intersection():\n",
    "    src = fiona.open(shapefile_src)\n",
    "    keep_columns = ['MUKEY', 'GEOMETRY']\n",
    "    output_schema = src.schema.copy()\n",
    "    output_schema['properties'] = {column_name: typ for column_name, typ in output_schema['properties'].items() if column_name in keep_columns}\n",
    "\n",
    "    mukey_list=[]\n",
    "    \n",
    "    for feature in src:\n",
    "        feature_poly = Polygon(feature['geometry']['coordinates'][0])\n",
    "        if field_plot.intersects(feature_poly):\n",
    "            feature['properties'] = {column_name: value for column_name, value in feature['properties'].items() if column_name in keep_columns}\n",
    "            mukey_list.append([feature['properties']['MUKEY'],field_plot.intersection(feature_poly).area/field_plot.area])\n",
    "    return mukey_list\n",
    "\n",
    "\n",
    "def calculator():\n",
    "    spatial_data = mukey_field_intersection()\n",
    "    tabular_data = excel_reader()\n",
    "    clay_prc = 0\n",
    "\n",
    "    for item in spatial_data:\n",
    "        clay_prc += item[1]*tabular_data[item[0]]\n",
    "    return round(clay_prc, 2)\n",
    "print (calculator())"
   ]
  },
  {
   "cell_type": "code",
   "execution_count": 5,
   "id": "4f529258",
   "metadata": {},
   "outputs": [
    {
     "name": "stderr",
     "output_type": "stream",
     "text": [
      "C:\\Users\\laris\\AppData\\Local\\Temp\\ipykernel_28196\\34847836.py:31: FionaDeprecationWarning: instances of this class -- CRS, geometry, and feature objects -- will become immutable in fiona version 2.0\n",
      "  feature['properties'] = {column_name: value for column_name, value in feature['properties'].items() if column_name in keep_columns}\n"
     ]
    }
   ],
   "source": [
    "# set variables to view\n",
    "muclay_dic = excel_reader()\n",
    "mukey_lst = mukey_field_intersection()"
   ]
  },
  {
   "cell_type": "code",
   "execution_count": 8,
   "id": "fc0ca4bf",
   "metadata": {},
   "outputs": [
    {
     "data": {
      "text/plain": [
       "[['565273', 0.08260921358211208],\n",
       " ['565258', 0.009258396955519242],\n",
       " ['1674436', 0.5288535328181785],\n",
       " ['565260', 0.3792788566449014]]"
      ]
     },
     "execution_count": 8,
     "metadata": {},
     "output_type": "execute_result"
    }
   ],
   "source": [
    "mukey_lst"
   ]
  },
  {
   "cell_type": "code",
   "execution_count": 3,
   "id": "1b373246",
   "metadata": {},
   "outputs": [
    {
     "ename": "IndexError",
     "evalue": "list index out of range",
     "output_type": "error",
     "traceback": [
      "\u001b[1;31m---------------------------------------------------------------------------\u001b[0m",
      "\u001b[1;31mIndexError\u001b[0m                                Traceback (most recent call last)",
      "Cell \u001b[1;32mIn[3], line 1\u001b[0m\n\u001b[1;32m----> 1\u001b[0m poly1 \u001b[39m=\u001b[39m Polygon(geom_list[\u001b[39m0\u001b[39;49m])\n\u001b[0;32m      2\u001b[0m poly2 \u001b[39m=\u001b[39m Polygon(geom_list[\u001b[39m1\u001b[39m])\n\u001b[0;32m      3\u001b[0m poly3 \u001b[39m=\u001b[39m Polygon(geom_list[\u001b[39m2\u001b[39m])\n",
      "\u001b[1;31mIndexError\u001b[0m: list index out of range"
     ]
    }
   ],
   "source": [
    "poly1 = Polygon(geom_list[0])\n",
    "poly2 = Polygon(geom_list[1])\n",
    "poly3 = Polygon(geom_list[2])\n",
    "poly4 = Polygon(geom_list[3])\n",
    "\n",
    "myPoly = gpd.GeoSeries([poly1,poly2,poly3,poly4,field_plot])\n",
    "myPoly.boundary.plot()\n",
    "plt.show()"
   ]
  },
  {
   "cell_type": "code",
   "execution_count": null,
   "id": "7cfc685b",
   "metadata": {},
   "outputs": [],
   "source": []
  }
 ],
 "metadata": {
  "kernelspec": {
   "display_name": ".venv38eo",
   "language": "python",
   "name": "python3"
  },
  "language_info": {
   "codemirror_mode": {
    "name": "ipython",
    "version": 3
   },
   "file_extension": ".py",
   "mimetype": "text/x-python",
   "name": "python",
   "nbconvert_exporter": "python",
   "pygments_lexer": "ipython3",
   "version": "3.8.10"
  },
  "vscode": {
   "interpreter": {
    "hash": "d976e26bdada36c5a7ad930433d46c74f0eb96ff2c94a0db8b07934defc3f2ef"
   }
  }
 },
 "nbformat": 4,
 "nbformat_minor": 5
}
