{
 "cells": [
  {
   "cell_type": "code",
   "execution_count": 1,
   "metadata": {},
   "outputs": [],
   "source": [
    "import geopandas as gpd\n",
    "import pandas as pd\n",
    "import matplotlib.pyplot as plt\n",
    "import fiona"
   ]
  },
  {
   "cell_type": "code",
   "execution_count": 2,
   "metadata": {},
   "outputs": [
    {
     "data": {
      "text/html": [
       "<div>\n",
       "<style scoped>\n",
       "    .dataframe tbody tr th:only-of-type {\n",
       "        vertical-align: middle;\n",
       "    }\n",
       "\n",
       "    .dataframe tbody tr th {\n",
       "        vertical-align: top;\n",
       "    }\n",
       "\n",
       "    .dataframe thead th {\n",
       "        text-align: right;\n",
       "    }\n",
       "</style>\n",
       "<table border=\"1\" class=\"dataframe\">\n",
       "  <thead>\n",
       "    <tr style=\"text-align: right;\">\n",
       "      <th></th>\n",
       "      <th>Join_Count</th>\n",
       "      <th>TARGET_FID</th>\n",
       "      <th>Consult_ID</th>\n",
       "      <th>FIELDFVID</th>\n",
       "      <th>FARM</th>\n",
       "      <th>GROWER</th>\n",
       "      <th>FIELD</th>\n",
       "      <th>Center_X</th>\n",
       "      <th>Center_Y</th>\n",
       "      <th>Shape_Leng</th>\n",
       "      <th>Acres_GIS</th>\n",
       "      <th>NAME</th>\n",
       "      <th>STATE_NAME</th>\n",
       "      <th>FIPS</th>\n",
       "      <th>ZIP_CODE</th>\n",
       "      <th>STATE</th>\n",
       "      <th>Shape_Le_1</th>\n",
       "      <th>Shape_Le_2</th>\n",
       "      <th>Shape_Area</th>\n",
       "      <th>geometry</th>\n",
       "    </tr>\n",
       "  </thead>\n",
       "  <tbody>\n",
       "    <tr>\n",
       "      <th>0</th>\n",
       "      <td>1</td>\n",
       "      <td>470</td>\n",
       "      <td>RD</td>\n",
       "      <td>343042</td>\n",
       "      <td>Jesse  James</td>\n",
       "      <td>Whitaker Farms</td>\n",
       "      <td>Jesse James 36</td>\n",
       "      <td>-91.408175</td>\n",
       "      <td>33.539830</td>\n",
       "      <td>0.015442</td>\n",
       "      <td>37.4382</td>\n",
       "      <td>Chicot County</td>\n",
       "      <td>Arkansas</td>\n",
       "      <td>05017</td>\n",
       "      <td>71638</td>\n",
       "      <td>AR</td>\n",
       "      <td>0.015442</td>\n",
       "      <td>0.015442</td>\n",
       "      <td>0.000015</td>\n",
       "      <td>POLYGON ((-91.41003 33.54153, -91.41001 33.541...</td>\n",
       "    </tr>\n",
       "    <tr>\n",
       "      <th>1</th>\n",
       "      <td>1</td>\n",
       "      <td>490</td>\n",
       "      <td>RD</td>\n",
       "      <td>622972</td>\n",
       "      <td>Chicot</td>\n",
       "      <td>Whitaker Farms</td>\n",
       "      <td>1</td>\n",
       "      <td>-91.345902</td>\n",
       "      <td>33.372063</td>\n",
       "      <td>0.014053</td>\n",
       "      <td>29.0258</td>\n",
       "      <td>Chicot County</td>\n",
       "      <td>Arkansas</td>\n",
       "      <td>05017</td>\n",
       "      <td>71653</td>\n",
       "      <td>AR</td>\n",
       "      <td>0.014053</td>\n",
       "      <td>0.014053</td>\n",
       "      <td>0.000011</td>\n",
       "      <td>POLYGON ((-91.34806 33.37096, -91.34803 33.373...</td>\n",
       "    </tr>\n",
       "  </tbody>\n",
       "</table>\n",
       "</div>"
      ],
      "text/plain": [
       "   Join_Count  TARGET_FID Consult_ID FIELDFVID          FARM          GROWER  \\\n",
       "0           1         470         RD    343042  Jesse  James  Whitaker Farms   \n",
       "1           1         490         RD    622972        Chicot  Whitaker Farms   \n",
       "\n",
       "            FIELD   Center_X   Center_Y  Shape_Leng  Acres_GIS           NAME  \\\n",
       "0  Jesse James 36 -91.408175  33.539830    0.015442    37.4382  Chicot County   \n",
       "1               1 -91.345902  33.372063    0.014053    29.0258  Chicot County   \n",
       "\n",
       "  STATE_NAME   FIPS ZIP_CODE STATE  Shape_Le_1  Shape_Le_2  Shape_Area  \\\n",
       "0   Arkansas  05017    71638    AR    0.015442    0.015442    0.000015   \n",
       "1   Arkansas  05017    71653    AR    0.014053    0.014053    0.000011   \n",
       "\n",
       "                                            geometry  \n",
       "0  POLYGON ((-91.41003 33.54153, -91.41001 33.541...  \n",
       "1  POLYGON ((-91.34806 33.37096, -91.34803 33.373...  "
      ]
     },
     "execution_count": 2,
     "metadata": {},
     "output_type": "execute_result"
    }
   ],
   "source": [
    "gdf_shp = gpd.read_file('ar017sriceflds.shp')\n",
    "gdf_shp.head(2)"
   ]
  },
  {
   "cell_type": "code",
   "execution_count": 3,
   "metadata": {},
   "outputs": [
    {
     "name": "stdout",
     "output_type": "stream",
     "text": [
      "<class 'geopandas.geodataframe.GeoDataFrame'>\n",
      "RangeIndex: 33 entries, 0 to 32\n",
      "Data columns (total 20 columns):\n",
      " #   Column      Non-Null Count  Dtype   \n",
      "---  ------      --------------  -----   \n",
      " 0   Join_Count  33 non-null     int64   \n",
      " 1   TARGET_FID  33 non-null     int64   \n",
      " 2   Consult_ID  33 non-null     object  \n",
      " 3   FIELDFVID   33 non-null     object  \n",
      " 4   FARM        33 non-null     object  \n",
      " 5   GROWER      33 non-null     object  \n",
      " 6   FIELD       33 non-null     object  \n",
      " 7   Center_X    33 non-null     float64 \n",
      " 8   Center_Y    33 non-null     float64 \n",
      " 9   Shape_Leng  33 non-null     float64 \n",
      " 10  Acres_GIS   33 non-null     float64 \n",
      " 11  NAME        33 non-null     object  \n",
      " 12  STATE_NAME  33 non-null     object  \n",
      " 13  FIPS        33 non-null     object  \n",
      " 14  ZIP_CODE    33 non-null     object  \n",
      " 15  STATE       33 non-null     object  \n",
      " 16  Shape_Le_1  33 non-null     float64 \n",
      " 17  Shape_Le_2  33 non-null     float64 \n",
      " 18  Shape_Area  33 non-null     float64 \n",
      " 19  geometry    33 non-null     geometry\n",
      "dtypes: float64(7), geometry(1), int64(2), object(10)\n",
      "memory usage: 5.3+ KB\n"
     ]
    }
   ],
   "source": [
    "gdf_shp.info()"
   ]
  },
  {
   "cell_type": "code",
   "execution_count": 23,
   "metadata": {},
   "outputs": [
    {
     "data": {
      "text/html": [
       "<div>\n",
       "<style scoped>\n",
       "    .dataframe tbody tr th:only-of-type {\n",
       "        vertical-align: middle;\n",
       "    }\n",
       "\n",
       "    .dataframe tbody tr th {\n",
       "        vertical-align: top;\n",
       "    }\n",
       "\n",
       "    .dataframe thead th {\n",
       "        text-align: right;\n",
       "    }\n",
       "</style>\n",
       "<table border=\"1\" class=\"dataframe\">\n",
       "  <thead>\n",
       "    <tr style=\"text-align: right;\">\n",
       "      <th></th>\n",
       "      <th>GROWER</th>\n",
       "      <th>FIELD</th>\n",
       "      <th>geometry</th>\n",
       "    </tr>\n",
       "  </thead>\n",
       "  <tbody>\n",
       "    <tr>\n",
       "      <th>0</th>\n",
       "      <td>Whitaker Farms</td>\n",
       "      <td>Jesse James 36</td>\n",
       "      <td>POLYGON ((-91.41003 33.54153, -91.41001 33.541...</td>\n",
       "    </tr>\n",
       "  </tbody>\n",
       "</table>\n",
       "</div>"
      ],
      "text/plain": [
       "           GROWER           FIELD  \\\n",
       "0  Whitaker Farms  Jesse James 36   \n",
       "\n",
       "                                            geometry  \n",
       "0  POLYGON ((-91.41003 33.54153, -91.41001 33.541...  "
      ]
     },
     "execution_count": 23,
     "metadata": {},
     "output_type": "execute_result"
    }
   ],
   "source": [
    "# need to output CSV with WKT column in format needed by AgriTask\n",
    "# subset required columns\n",
    "sub_df = gdf_shp[['GROWER', 'FIELD', 'geometry']]\n",
    "sub_df.head(1)\n",
    "#agrtask_clmns ="
   ]
  },
  {
   "cell_type": "code",
   "execution_count": 24,
   "metadata": {},
   "outputs": [
    {
     "name": "stderr",
     "output_type": "stream",
     "text": [
      "c:\\Users\\laris\\repos\\eo-data\\.venv38eo\\lib\\site-packages\\geopandas\\geodataframe.py:1443: SettingWithCopyWarning: \n",
      "A value is trying to be set on a copy of a slice from a DataFrame.\n",
      "Try using .loc[row_indexer,col_indexer] = value instead\n",
      "\n",
      "See the caveats in the documentation: https://pandas.pydata.org/pandas-docs/stable/user_guide/indexing.html#returning-a-view-versus-a-copy\n",
      "  super().__setitem__(key, value)\n"
     ]
    }
   ],
   "source": [
    "# converting 'geometry' to object dtype for export to CSV\n",
    "sub_df['WKT'] = sub_df.geometry.to_wkt()"
   ]
  },
  {
   "cell_type": "code",
   "execution_count": 25,
   "metadata": {},
   "outputs": [
    {
     "name": "stderr",
     "output_type": "stream",
     "text": [
      "C:\\Users\\laris\\AppData\\Local\\Temp\\ipykernel_24940\\159568880.py:2: SettingWithCopyWarning: \n",
      "A value is trying to be set on a copy of a slice from a DataFrame\n",
      "\n",
      "See the caveats in the documentation: https://pandas.pydata.org/pandas-docs/stable/user_guide/indexing.html#returning-a-view-versus-a-copy\n",
      "  sub_df.drop(['geometry'], axis=1, inplace=True)\n"
     ]
    }
   ],
   "source": [
    "# drop geometry\n",
    "sub_df.drop(['geometry'], axis=1, inplace=True)"
   ]
  },
  {
   "cell_type": "code",
   "execution_count": 32,
   "metadata": {},
   "outputs": [
    {
     "name": "stderr",
     "output_type": "stream",
     "text": [
      "c:\\Users\\laris\\repos\\eo-data\\.venv38eo\\lib\\site-packages\\geopandas\\geodataframe.py:1443: SettingWithCopyWarning: \n",
      "A value is trying to be set on a copy of a slice from a DataFrame.\n",
      "Try using .loc[row_indexer,col_indexer] = value instead\n",
      "\n",
      "See the caveats in the documentation: https://pandas.pydata.org/pandas-docs/stable/user_guide/indexing.html#returning-a-view-versus-a-copy\n",
      "  super().__setitem__(key, value)\n"
     ]
    },
    {
     "data": {
      "text/html": [
       "<div>\n",
       "<style scoped>\n",
       "    .dataframe tbody tr th:only-of-type {\n",
       "        vertical-align: middle;\n",
       "    }\n",
       "\n",
       "    .dataframe tbody tr th {\n",
       "        vertical-align: top;\n",
       "    }\n",
       "\n",
       "    .dataframe thead th {\n",
       "        text-align: right;\n",
       "    }\n",
       "</style>\n",
       "<table border=\"1\" class=\"dataframe\">\n",
       "  <thead>\n",
       "    <tr style=\"text-align: right;\">\n",
       "      <th></th>\n",
       "      <th>GROWER</th>\n",
       "      <th>FIELD</th>\n",
       "      <th>plot_name1</th>\n",
       "      <th>plot_name2</th>\n",
       "      <th>E</th>\n",
       "      <th>F</th>\n",
       "      <th>G</th>\n",
       "      <th>H</th>\n",
       "      <th>I</th>\n",
       "      <th>J</th>\n",
       "      <th>K</th>\n",
       "      <th>WKT</th>\n",
       "      <th>clay_content_percentage</th>\n",
       "    </tr>\n",
       "  </thead>\n",
       "  <tbody>\n",
       "    <tr>\n",
       "      <th>0</th>\n",
       "      <td>Larisa Landviser</td>\n",
       "      <td>Jesse James 36</td>\n",
       "      <td></td>\n",
       "      <td></td>\n",
       "      <td></td>\n",
       "      <td></td>\n",
       "      <td></td>\n",
       "      <td></td>\n",
       "      <td></td>\n",
       "      <td></td>\n",
       "      <td></td>\n",
       "      <td>POLYGON ((-91.410028 33.541532, -91.410007 33....</td>\n",
       "      <td></td>\n",
       "    </tr>\n",
       "  </tbody>\n",
       "</table>\n",
       "</div>"
      ],
      "text/plain": [
       "             GROWER           FIELD plot_name1 plot_name2 E F G H I J K  \\\n",
       "0  Larisa Landviser  Jesse James 36                                       \n",
       "\n",
       "                                                 WKT clay_content_percentage  \n",
       "0  POLYGON ((-91.410028 33.541532, -91.410007 33....                          "
      ]
     },
     "execution_count": 32,
     "metadata": {},
     "output_type": "execute_result"
    }
   ],
   "source": [
    "# rename grower to test injest\n",
    "sub_df['GROWER'] = 'Larisa Landviser'\n",
    "sub_df.head(1)"
   ]
  },
  {
   "cell_type": "code",
   "execution_count": 26,
   "metadata": {},
   "outputs": [],
   "source": [
    "sub_df.insert(2,'plot_name1','')\n",
    "sub_df.insert(3,'plot_name2','')\n",
    "sub_df.insert(4,'E','')\n",
    "sub_df.insert(5,'F','')\n",
    "sub_df.insert(6,'G','')\n",
    "sub_df.insert(7,'H','')\n",
    "sub_df.insert(8,'I','')\n",
    "sub_df.insert(9,'J','')\n",
    "sub_df.insert(10,'K','')\n",
    "sub_df.insert(12,'clay_content_percentage','')"
   ]
  },
  {
   "cell_type": "code",
   "execution_count": 27,
   "metadata": {},
   "outputs": [
    {
     "data": {
      "text/html": [
       "<div>\n",
       "<style scoped>\n",
       "    .dataframe tbody tr th:only-of-type {\n",
       "        vertical-align: middle;\n",
       "    }\n",
       "\n",
       "    .dataframe tbody tr th {\n",
       "        vertical-align: top;\n",
       "    }\n",
       "\n",
       "    .dataframe thead th {\n",
       "        text-align: right;\n",
       "    }\n",
       "</style>\n",
       "<table border=\"1\" class=\"dataframe\">\n",
       "  <thead>\n",
       "    <tr style=\"text-align: right;\">\n",
       "      <th></th>\n",
       "      <th>GROWER</th>\n",
       "      <th>FIELD</th>\n",
       "      <th>plot_name1</th>\n",
       "      <th>plot_name2</th>\n",
       "      <th>E</th>\n",
       "      <th>F</th>\n",
       "      <th>G</th>\n",
       "      <th>H</th>\n",
       "      <th>I</th>\n",
       "      <th>J</th>\n",
       "      <th>K</th>\n",
       "      <th>WKT</th>\n",
       "      <th>clay_content_percentage</th>\n",
       "    </tr>\n",
       "  </thead>\n",
       "  <tbody>\n",
       "    <tr>\n",
       "      <th>0</th>\n",
       "      <td>Whitaker Farms</td>\n",
       "      <td>Jesse James 36</td>\n",
       "      <td></td>\n",
       "      <td></td>\n",
       "      <td></td>\n",
       "      <td></td>\n",
       "      <td></td>\n",
       "      <td></td>\n",
       "      <td></td>\n",
       "      <td></td>\n",
       "      <td></td>\n",
       "      <td>POLYGON ((-91.410028 33.541532, -91.410007 33....</td>\n",
       "      <td></td>\n",
       "    </tr>\n",
       "  </tbody>\n",
       "</table>\n",
       "</div>"
      ],
      "text/plain": [
       "           GROWER           FIELD plot_name1 plot_name2 E F G H I J K  \\\n",
       "0  Whitaker Farms  Jesse James 36                                       \n",
       "\n",
       "                                                 WKT clay_content_percentage  \n",
       "0  POLYGON ((-91.410028 33.541532, -91.410007 33....                          "
      ]
     },
     "execution_count": 27,
     "metadata": {},
     "output_type": "execute_result"
    }
   ],
   "source": [
    "sub_df.head(1)"
   ]
  },
  {
   "cell_type": "code",
   "execution_count": 28,
   "metadata": {},
   "outputs": [
    {
     "name": "stdout",
     "output_type": "stream",
     "text": [
      "<class 'geopandas.geodataframe.GeoDataFrame'>\n",
      "RangeIndex: 33 entries, 0 to 32\n",
      "Data columns (total 13 columns):\n",
      " #   Column                   Non-Null Count  Dtype \n",
      "---  ------                   --------------  ----- \n",
      " 0   GROWER                   33 non-null     object\n",
      " 1   FIELD                    33 non-null     object\n",
      " 2   plot_name1               33 non-null     object\n",
      " 3   plot_name2               33 non-null     object\n",
      " 4   E                        33 non-null     object\n",
      " 5   F                        33 non-null     object\n",
      " 6   G                        33 non-null     object\n",
      " 7   H                        33 non-null     object\n",
      " 8   I                        33 non-null     object\n",
      " 9   J                        33 non-null     object\n",
      " 10  K                        33 non-null     object\n",
      " 11  WKT                      33 non-null     object\n",
      " 12  clay_content_percentage  33 non-null     object\n",
      "dtypes: object(13)\n",
      "memory usage: 3.5+ KB\n"
     ]
    }
   ],
   "source": [
    "sub_df.info()"
   ]
  },
  {
   "cell_type": "code",
   "execution_count": 33,
   "metadata": {},
   "outputs": [],
   "source": [
    "# export as CSV to bulk upload in AgriTask\n",
    "sub_df.to_csv('LLtest.csv', index=False)"
   ]
  },
  {
   "cell_type": "code",
   "execution_count": null,
   "metadata": {},
   "outputs": [],
   "source": []
  }
 ],
 "metadata": {
  "kernelspec": {
   "display_name": ".venv38eo",
   "language": "python",
   "name": "python3"
  },
  "language_info": {
   "codemirror_mode": {
    "name": "ipython",
    "version": 3
   },
   "file_extension": ".py",
   "mimetype": "text/x-python",
   "name": "python",
   "nbconvert_exporter": "python",
   "pygments_lexer": "ipython3",
   "version": "3.8.10"
  },
  "orig_nbformat": 4,
  "vscode": {
   "interpreter": {
    "hash": "d976e26bdada36c5a7ad930433d46c74f0eb96ff2c94a0db8b07934defc3f2ef"
   }
  }
 },
 "nbformat": 4,
 "nbformat_minor": 2
}
